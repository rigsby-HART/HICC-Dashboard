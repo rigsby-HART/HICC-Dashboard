{
 "cells": [
  {
   "cell_type": "code",
   "execution_count": 12,
   "id": "312c50a6",
   "metadata": {
    "scrolled": true
   },
   "outputs": [
    {
     "name": "stdout",
     "output_type": "stream",
     "text": [
      "The autoreload extension is already loaded. To reload it, use:\n",
      "  %reload_ext autoreload\n"
     ]
    }
   ],
   "source": [
    "%load_ext autoreload\n",
    "%autoreload 2\n",
    "import warnings\n",
    "\n",
    "warnings.filterwarnings('ignore')"
   ]
  },
  {
   "cell_type": "code",
   "execution_count": 13,
   "id": "9035cded",
   "metadata": {},
   "outputs": [],
   "source": [
    "\n",
    "master_data_filepath = '..\\\\2024-12-04 Data summary v3 - All geos.xlsx'\n",
    "transit_filepath = '..\\\\CSDs_TransitStatsFormattedDataV2.csv'\n",
    "\n",
    "db_path = '..\\\\sources\\\\hicc.db'\n"
   ]
  },
  {
   "cell_type": "code",
   "execution_count": 14,
   "id": "9900a40c",
   "metadata": {
    "scrolled": true
   },
   "outputs": [
    {
     "name": "stdout",
     "output_type": "stream",
     "text": [
      "Reading Input master data...\n",
      "Input master data loaded...\n",
      "Preparing Output 1\n",
      "Output 1 Successfully created...\n",
      "Preparing Output 1\n",
      "Output 1 Successfully created...\n",
      "Preparing Output 2...\n",
      "Output 2 Successfully created...\n",
      "Preparing Output 3...\n",
      "Output 3 Successfully created...\n",
      "Preparing Output 4a...\n",
      "Output 4a Successfully created...\n",
      "Preparing Output 4b...\n",
      "Output 4b Successfully created...\n",
      "Preparing Output 5a...\n",
      "Output 5a Successfully created...\n",
      "Preparing Output 5b...\n",
      "Output 5b Successfully created...\n",
      "Preparing Output 6...\n",
      "Output 6 Successfully created...\n",
      "Preparing Output 7...\n",
      "Output 7 Successfully created...\n",
      "Preparing Output 8...\n",
      "Output 8 Successfully created...\n",
      "Preparing Output 9...\n",
      "Output 9 Successfully created...\n",
      "Preparing Output 10...\n",
      "Output 10 a and b Successfully created...\n",
      "Preparing Output 9...\n",
      "Output 9 Successfully created...\n",
      "Preparing Output 10...\n",
      "Output 10 a and b Successfully created...\n",
      "Preparing Output 9...\n",
      "Output 9 Successfully created...\n",
      "Preparing Output 10...\n",
      "Output 10 a and b Successfully created...\n"
     ]
    }
   ],
   "source": [
    "# The following code uploads data to database\n",
    "from DBUploader import DBUploader\n",
    "uploader = DBUploader(master_data_filepath, transit_filepath, db_path)\n",
    "\n"
   ]
  },
  {
   "cell_type": "code",
   "execution_count": 15,
   "id": "6df1e5aa",
   "metadata": {
    "scrolled": true
   },
   "outputs": [
    {
     "name": "stdout",
     "output_type": "stream",
     "text": [
      "Database ready....\n"
     ]
    }
   ],
   "source": [
    "uploader()"
   ]
  },
  {
   "cell_type": "markdown",
   "id": "21149361",
   "metadata": {},
   "source": [
    "### Test"
   ]
  },
  {
   "cell_type": "code",
   "execution_count": 3,
   "id": "a278b5c6",
   "metadata": {},
   "outputs": [
    {
     "name": "stdout",
     "output_type": "stream",
     "text": [
      "Reading Input master data...\n",
      "Input master data loaded...\n",
      "Preparing Output 1\n",
      "Some columns from output 1 were not found\n"
     ]
    },
    {
     "ename": "UnboundLocalError",
     "evalue": "local variable 'output_1' referenced before assignment",
     "output_type": "error",
     "traceback": [
      "\u001b[1;31m---------------------------------------------------------------------------\u001b[0m",
      "\u001b[1;31mUnboundLocalError\u001b[0m                         Traceback (most recent call last)",
      "\u001b[1;32m~\\AppData\\Local\\Temp\\ipykernel_22772\\2322202279.py\u001b[0m in \u001b[0;36m<cell line: 3>\u001b[1;34m()\u001b[0m\n\u001b[0;32m      1\u001b[0m \u001b[1;32mfrom\u001b[0m \u001b[0mPrepareTables\u001b[0m \u001b[1;32mimport\u001b[0m \u001b[0mPrepareTables\u001b[0m\u001b[1;33m\u001b[0m\u001b[1;33m\u001b[0m\u001b[0m\n\u001b[0;32m      2\u001b[0m \u001b[0mpt\u001b[0m \u001b[1;33m=\u001b[0m \u001b[0mPrepareTables\u001b[0m\u001b[1;33m(\u001b[0m\u001b[0mmaster_data_filepath\u001b[0m\u001b[1;33m,\u001b[0m \u001b[0mtransit_filepath\u001b[0m\u001b[1;33m)\u001b[0m\u001b[1;33m\u001b[0m\u001b[1;33m\u001b[0m\u001b[0m\n\u001b[1;32m----> 3\u001b[1;33m \u001b[0mpt\u001b[0m\u001b[1;33m.\u001b[0m\u001b[0mprepare_output_1\u001b[0m\u001b[1;33m(\u001b[0m\u001b[1;33m)\u001b[0m\u001b[1;33m\u001b[0m\u001b[1;33m\u001b[0m\u001b[0m\n\u001b[0m",
      "\u001b[1;32m~\\Projects\\24095-HART-HICC\\helper\\PrepareTables.py\u001b[0m in \u001b[0;36mprepare_output_1\u001b[1;34m(self, future)\u001b[0m\n\u001b[0;32m     40\u001b[0m             \u001b[0mprint\u001b[0m\u001b[1;33m(\u001b[0m\u001b[1;34m'Some columns from output 1 were not found'\u001b[0m\u001b[1;33m)\u001b[0m\u001b[1;33m\u001b[0m\u001b[1;33m\u001b[0m\u001b[0m\n\u001b[0;32m     41\u001b[0m \u001b[1;33m\u001b[0m\u001b[0m\n\u001b[1;32m---> 42\u001b[1;33m         \u001b[0moutput_1_long\u001b[0m \u001b[1;33m=\u001b[0m \u001b[0moutput_1\u001b[0m\u001b[1;33m.\u001b[0m\u001b[0mmelt\u001b[0m\u001b[1;33m(\u001b[0m\u001b[0mid_vars\u001b[0m\u001b[1;33m=\u001b[0m\u001b[0moutput_1\u001b[0m\u001b[1;33m.\u001b[0m\u001b[0mcolumns\u001b[0m\u001b[1;33m[\u001b[0m\u001b[1;36m0\u001b[0m\u001b[1;33m]\u001b[0m\u001b[1;33m,\u001b[0m \u001b[0mvar_name\u001b[0m\u001b[1;33m=\u001b[0m\u001b[1;34m\"Data\"\u001b[0m\u001b[1;33m,\u001b[0m \u001b[0mvalue_name\u001b[0m\u001b[1;33m=\u001b[0m\u001b[1;34m\"Value\"\u001b[0m\u001b[1;33m)\u001b[0m\u001b[1;33m\u001b[0m\u001b[1;33m\u001b[0m\u001b[0m\n\u001b[0m\u001b[0;32m     43\u001b[0m         output_1_long['Characteristic'] = np.where(output_1_long['Data'].str.contains('200'), \n\u001b[0;32m     44\u001b[0m                                                     \u001b[1;34m'Households within 200m of a rail/light-rail transit station (#)'\u001b[0m\u001b[1;33m,\u001b[0m\u001b[1;33m\u001b[0m\u001b[1;33m\u001b[0m\u001b[0m\n",
      "\u001b[1;31mUnboundLocalError\u001b[0m: local variable 'output_1' referenced before assignment"
     ]
    }
   ],
   "source": [
    "from PrepareTables import PrepareTables\n",
    "pt = PrepareTables(master_data_filepath, transit_filepath)\n",
    "pt.prepare_output_1()"
   ]
  },
  {
   "cell_type": "code",
   "execution_count": 29,
   "id": "e0505036",
   "metadata": {
    "scrolled": true
   },
   "outputs": [
    {
     "name": "stdout",
     "output_type": "stream",
     "text": [
      "Preparing Output 9...\n",
      "Output 9 Successfully created...\n",
      "Preparing Output 10...\n",
      "Output 10 a and b Successfully created...\n"
     ]
    },
    {
     "data": {
      "text/plain": [
       "(                                                                    2016 Population  \\\n",
       " Geography       GEO_TYPE_ABBR_EN ALT_GEO_CODE_EN PR_CODE_EN Age                       \n",
       " Abbotsford      CY               5909052         59         15to24          18260.0   \n",
       "                                                             25to34          19110.0   \n",
       "                                                             35to44          17825.0   \n",
       "                                                             45to54          18500.0   \n",
       "                                                             55to64          17860.0   \n",
       " ...                                                                             ...   \n",
       " Île-à-la-Crosse NV               4718067         47         55to64            130.0   \n",
       "                                                             65to74             70.0   \n",
       "                                                             75plus              NaN   \n",
       "                                                             75to84             35.0   \n",
       "                                                             85plus             10.0   \n",
       " \n",
       "                                                                     2016 Number of Primary Household Maintainers  \\\n",
       " Geography       GEO_TYPE_ABBR_EN ALT_GEO_CODE_EN PR_CODE_EN Age                                                    \n",
       " Abbotsford      CY               5909052         59         15to24                                        1565.0   \n",
       "                                                             25to34                                        6890.0   \n",
       "                                                             35to44                                        8525.0   \n",
       "                                                             45to54                                       10040.0   \n",
       "                                                             55to64                                        9370.0   \n",
       " ...                                                                                                          ...   \n",
       " Île-à-la-Crosse NV               4718067         47         55to64                                          75.0   \n",
       "                                                             65to74                                          45.0   \n",
       "                                                             75plus                                           NaN   \n",
       "                                                             75to84                                          20.0   \n",
       "                                                             85plus                                          10.0   \n",
       " \n",
       "                                                                     2016 Headship Rate  \\\n",
       " Geography       GEO_TYPE_ABBR_EN ALT_GEO_CODE_EN PR_CODE_EN Age                          \n",
       " Abbotsford      CY               5909052         59         15to24            0.085706   \n",
       "                                                             25to34            0.360544   \n",
       "                                                             35to44            0.478261   \n",
       "                                                             45to54            0.542703   \n",
       "                                                             55to64            0.524636   \n",
       " ...                                                                                ...   \n",
       " Île-à-la-Crosse NV               4718067         47         55to64            0.576923   \n",
       "                                                             65to74            0.642857   \n",
       "                                                             75plus                 NaN   \n",
       "                                                             75to84            0.571429   \n",
       "                                                             85plus            1.000000   \n",
       " \n",
       "                                                                     2021 Population  \\\n",
       " Geography       GEO_TYPE_ABBR_EN ALT_GEO_CODE_EN PR_CODE_EN Age                       \n",
       " Abbotsford      CY               5909052         59         15to24          19520.0   \n",
       "                                                             25to34          21140.0   \n",
       "                                                             35to44          21010.0   \n",
       "                                                             45to54          18505.0   \n",
       "                                                             55to64          18575.0   \n",
       " ...                                                                             ...   \n",
       " Île-à-la-Crosse NV               4718067         47         55to64            185.0   \n",
       "                                                             65to74             95.0   \n",
       "                                                             75plus             55.0   \n",
       "                                                             75to84             45.0   \n",
       "                                                             85plus             10.0   \n",
       " \n",
       "                                                                     2021 Number of Primary Household Maintainers  \\\n",
       " Geography       GEO_TYPE_ABBR_EN ALT_GEO_CODE_EN PR_CODE_EN Age                                                    \n",
       " Abbotsford      CY               5909052         59         15to24                                        1515.0   \n",
       "                                                             25to34                                        7205.0   \n",
       "                                                             35to44                                        9720.0   \n",
       "                                                             45to54                                        9810.0   \n",
       "                                                             55to64                                       10085.0   \n",
       " ...                                                                                                          ...   \n",
       " Île-à-la-Crosse NV               4718067         47         55to64                                         110.0   \n",
       "                                                             65to74                                          90.0   \n",
       "                                                             75plus                                          40.0   \n",
       "                                                             75to84                                          40.0   \n",
       "                                                             85plus                                           0.0   \n",
       " \n",
       "                                                                     2021 Headship Rate  \\\n",
       " Geography       GEO_TYPE_ABBR_EN ALT_GEO_CODE_EN PR_CODE_EN Age                          \n",
       " Abbotsford      CY               5909052         59         15to24            0.077613   \n",
       "                                                             25to34            0.340823   \n",
       "                                                             35to44            0.462637   \n",
       "                                                             45to54            0.530127   \n",
       "                                                             55to64            0.542934   \n",
       " ...                                                                                ...   \n",
       " Île-à-la-Crosse NV               4718067         47         55to64            0.594595   \n",
       "                                                             65to74            0.947368   \n",
       "                                                             75plus            0.727273   \n",
       "                                                             75to84            0.888889   \n",
       "                                                             85plus            0.000000   \n",
       " \n",
       "                                                                     Change in Headship Rate between 2016 and 2021  \n",
       " Geography       GEO_TYPE_ABBR_EN ALT_GEO_CODE_EN PR_CODE_EN Age                                                    \n",
       " Abbotsford      CY               5909052         59         15to24                                      -0.008094  \n",
       "                                                             25to34                                      -0.019721  \n",
       "                                                             35to44                                      -0.015624  \n",
       "                                                             45to54                                      -0.012576  \n",
       "                                                             55to64                                       0.018298  \n",
       " ...                                                                                                           ...  \n",
       " Île-à-la-Crosse NV               4718067         47         55to64                                       0.017672  \n",
       "                                                             65to74                                       0.304511  \n",
       "                                                             75plus                                            NaN  \n",
       "                                                             75to84                                       0.317460  \n",
       "                                                             85plus                                      -1.000000  \n",
       " \n",
       " [28566 rows x 7 columns],\n",
       "                                                                     2006 Population  \\\n",
       " Geography       GEO_TYPE_ABBR_EN ALT_GEO_CODE_EN PR_CODE_EN Age                       \n",
       " Abbotsford      CY               5909052         59         15to24          18030.0   \n",
       "                                                             25to34          16135.0   \n",
       "                                                             35to44          17930.0   \n",
       "                                                             45to54          16695.0   \n",
       "                                                             55to64          12860.0   \n",
       " ...                                                                             ...   \n",
       " Île-à-la-Crosse NV               4718067         47         35to44            180.0   \n",
       "                                                             45to54            165.0   \n",
       "                                                             55to64             95.0   \n",
       "                                                             65to74             55.0   \n",
       "                                                             75plus             40.0   \n",
       " \n",
       "                                                                     2006 Households  \\\n",
       " Geography       GEO_TYPE_ABBR_EN ALT_GEO_CODE_EN PR_CODE_EN Age                       \n",
       " Abbotsford      CY               5909052         59         15to24           1795.0   \n",
       "                                                             25to34           6520.0   \n",
       "                                                             35to44           9390.0   \n",
       "                                                             45to54           9145.0   \n",
       "                                                             55to64           6820.0   \n",
       " ...                                                                             ...   \n",
       " Île-à-la-Crosse NV               4718067         47         35to44             95.0   \n",
       "                                                             45to54            115.0   \n",
       "                                                             55to64             65.0   \n",
       "                                                             65to74             20.0   \n",
       "                                                             75plus             10.0   \n",
       " \n",
       "                                                                     2006 Headship Rate  \\\n",
       " Geography       GEO_TYPE_ABBR_EN ALT_GEO_CODE_EN PR_CODE_EN Age                          \n",
       " Abbotsford      CY               5909052         59         15to24            0.099556   \n",
       "                                                             25to34            0.404090   \n",
       "                                                             35to44            0.523703   \n",
       "                                                             45to54            0.547769   \n",
       "                                                             55to64            0.530327   \n",
       " ...                                                                                ...   \n",
       " Île-à-la-Crosse NV               4718067         47         35to44            0.527778   \n",
       "                                                             45to54            0.696970   \n",
       "                                                             55to64            0.684211   \n",
       "                                                             65to74            0.363636   \n",
       "                                                             75plus            0.250000   \n",
       " \n",
       "                                                                     2021 Population  \\\n",
       " Geography       GEO_TYPE_ABBR_EN ALT_GEO_CODE_EN PR_CODE_EN Age                       \n",
       " Abbotsford      CY               5909052         59         15to24          19520.0   \n",
       "                                                             25to34          21140.0   \n",
       "                                                             35to44          21010.0   \n",
       "                                                             45to54          18505.0   \n",
       "                                                             55to64          18575.0   \n",
       " ...                                                                             ...   \n",
       " Île-à-la-Crosse NV               4718067         47         35to44            150.0   \n",
       "                                                             45to54            140.0   \n",
       "                                                             55to64            185.0   \n",
       "                                                             65to74             95.0   \n",
       "                                                             75plus             55.0   \n",
       " \n",
       "                                                                     2021 Households  \\\n",
       " Geography       GEO_TYPE_ABBR_EN ALT_GEO_CODE_EN PR_CODE_EN Age                       \n",
       " Abbotsford      CY               5909052         59         15to24           1515.0   \n",
       "                                                             25to34           7205.0   \n",
       "                                                             35to44           9720.0   \n",
       "                                                             45to54           9810.0   \n",
       "                                                             55to64          10085.0   \n",
       " ...                                                                             ...   \n",
       " Île-à-la-Crosse NV               4718067         47         35to44             55.0   \n",
       "                                                             45to54             75.0   \n",
       "                                                             55to64            110.0   \n",
       "                                                             65to74             90.0   \n",
       "                                                             75plus             40.0   \n",
       " \n",
       "                                                                     2021 Headship Rate  \n",
       " Geography       GEO_TYPE_ABBR_EN ALT_GEO_CODE_EN PR_CODE_EN Age                         \n",
       " Abbotsford      CY               5909052         59         15to24            0.077613  \n",
       "                                                             25to34            0.340823  \n",
       "                                                             35to44            0.462637  \n",
       "                                                             45to54            0.530127  \n",
       "                                                             55to64            0.542934  \n",
       " ...                                                                                ...  \n",
       " Île-à-la-Crosse NV               4718067         47         35to44            0.366667  \n",
       "                                                             45to54            0.535714  \n",
       "                                                             55to64            0.594595  \n",
       "                                                             65to74            0.947368  \n",
       "                                                             75plus            0.727273  \n",
       " \n",
       " [22218 rows x 6 columns],\n",
       "                                                                     2021 Potential Households (2006 Headship Rate x 2021 Population)  \\\n",
       " Geography       GEO_TYPE_ABBR_EN ALT_GEO_CODE_EN PR_CODE_EN Age                                                                        \n",
       " Abbotsford      CY               5909052         59         15to24                                        1943.338880                  \n",
       "                                                             25to34                                        8542.472885                  \n",
       "                                                             35to44                                       11003.006135                  \n",
       "                                                             45to54                                       10136.461515                  \n",
       "                                                             55to64                                        9850.816485                  \n",
       " ...                                                                                                               ...                  \n",
       " Île-à-la-Crosse NV               4718067         47         45to54                                          97.575758                  \n",
       "                                                             55to64                                         126.578947                  \n",
       "                                                             65to74                                          34.545455                  \n",
       "                                                             75plus                                          13.750000                  \n",
       "                                                             Total                                                 NaN                  \n",
       " \n",
       "                                                                     2021 Households  \\\n",
       " Geography       GEO_TYPE_ABBR_EN ALT_GEO_CODE_EN PR_CODE_EN Age                       \n",
       " Abbotsford      CY               5909052         59         15to24           1515.0   \n",
       "                                                             25to34           7205.0   \n",
       "                                                             35to44           9720.0   \n",
       "                                                             45to54           9810.0   \n",
       "                                                             55to64          10085.0   \n",
       " ...                                                                             ...   \n",
       " Île-à-la-Crosse NV               4718067         47         45to54             75.0   \n",
       "                                                             55to64            110.0   \n",
       "                                                             65to74             90.0   \n",
       "                                                             75plus             40.0   \n",
       "                                                             Total               NaN   \n",
       " \n",
       "                                                                     2021 Suppressed Households (only if Potential Households > Actual Households)  \n",
       " Geography       GEO_TYPE_ABBR_EN ALT_GEO_CODE_EN PR_CODE_EN Age                                                                                    \n",
       " Abbotsford      CY               5909052         59         15to24                                         428.338880                              \n",
       "                                                             25to34                                        1337.472885                              \n",
       "                                                             35to44                                        1283.006135                              \n",
       "                                                             45to54                                         326.461515                              \n",
       "                                                             55to64                                           0.000000                              \n",
       " ...                                                                                                               ...                              \n",
       " Île-à-la-Crosse NV               4718067         47         45to54                                          22.575758                              \n",
       "                                                             55to64                                          16.578947                              \n",
       "                                                             65to74                                           0.000000                              \n",
       "                                                             75plus                                           0.000000                              \n",
       "                                                             Total                                          108.887481                              \n",
       " \n",
       " [25392 rows x 3 columns])"
      ]
     },
     "execution_count": 29,
     "metadata": {},
     "output_type": "execute_result"
    }
   ],
   "source": [
    "# output_5a = p.prepare_output_5a()\n",
    "\n",
    "# p.prepare_output_5b(output_5a)\n",
    "\n",
    "p.prepare_output_9_and_10()"
   ]
  },
  {
   "cell_type": "code",
   "execution_count": 3,
   "id": "e7172985",
   "metadata": {},
   "outputs": [],
   "source": [
    "def geo_code_extractor(geography):\n",
    "    geo = geography.split()\n",
    "    # print(geo)\n",
    "    for g in geo:\n",
    "        if g[0] == '(' and g[1].isdigit():\n",
    "            g = g.replace(\"(\", \"\")\n",
    "            g = g.replace(\")\", \"\")\n",
    "            break\n",
    "    return g"
   ]
  },
  {
   "cell_type": "code",
   "execution_count": 4,
   "id": "545f0eab",
   "metadata": {},
   "outputs": [],
   "source": [
    "geo_code_list = geo_code.apply(lambda x: geo_code_extractor(x))\n",
    "region_code_list = geo_code_list.apply(lambda x: x[:4])\n",
    "province_code_list = geo_code_list.apply(lambda x: x[:2])"
   ]
  },
  {
   "cell_type": "code",
   "execution_count": 8,
   "id": "0dcc3890",
   "metadata": {},
   "outputs": [],
   "source": [
    "geo_code_mapping = pd.DataFrame({'Geo_Code': geo_code_list, 'Region_Code': region_code_list, 'Province_Code': province_code_list, 'Geography': df_income['Formatted Name']})\n",
    "geo_code_mapping['Geo_Code_Length'] = geo_code_mapping['Geo_Code'].apply(lambda x: len(x))\n",
    "\n",
    "region_code_mapping = geo_code_mapping.loc[geo_code_mapping['Geo_Code_Length'] == 4, :]\n",
    "province_code_mapping = geo_code_mapping.loc[geo_code_mapping['Geo_Code_Length'] <= 2, :]\n",
    "\n",
    "mapped_geo_code = geo_code_mapping.merge(region_code_mapping[['Geo_Code','Geography']], how = 'left', left_on = 'Region_Code', right_on = 'Geo_Code')\n",
    "mapped_geo_code = mapped_geo_code.merge(province_code_mapping[['Geo_Code','Geography']], how = 'left', left_on = 'Province_Code', right_on = 'Geo_Code')\n",
    "mapped_geo_code = mapped_geo_code[['Geo_Code_x', 'Region_Code', 'Province_Code', 'Geography_x','Geography_y','Geography']]\n",
    "mapped_geo_code.columns = ['Geo_Code', 'Region_Code', 'Province_Code', 'Geography','Region','Province']\n",
    "# mapped_geo_code['Region'] = mapped_geo_code['Region'].fillna(mapped_geo_code['Province'])"
   ]
  },
  {
   "cell_type": "code",
   "execution_count": 23,
   "id": "3e579b6a",
   "metadata": {},
   "outputs": [
    {
     "data": {
      "text/html": [
       "<div>\n",
       "<style scoped>\n",
       "    .dataframe tbody tr th:only-of-type {\n",
       "        vertical-align: middle;\n",
       "    }\n",
       "\n",
       "    .dataframe tbody tr th {\n",
       "        vertical-align: top;\n",
       "    }\n",
       "\n",
       "    .dataframe thead th {\n",
       "        text-align: right;\n",
       "    }\n",
       "</style>\n",
       "<table border=\"1\" class=\"dataframe\">\n",
       "  <thead>\n",
       "    <tr style=\"text-align: right;\">\n",
       "      <th></th>\n",
       "      <th>Geo_Code</th>\n",
       "      <th>Region_Code</th>\n",
       "      <th>Province_Code</th>\n",
       "      <th>Geography</th>\n",
       "      <th>Region</th>\n",
       "      <th>Province</th>\n",
       "    </tr>\n",
       "  </thead>\n",
       "  <tbody>\n",
       "    <tr>\n",
       "      <th>809</th>\n",
       "      <td>5915022</td>\n",
       "      <td>5915</td>\n",
       "      <td>59</td>\n",
       "      <td>Vancouver CY (CSD, BC)</td>\n",
       "      <td>Greater Vancouver (CD, BC)</td>\n",
       "      <td>British Columbia (Province)</td>\n",
       "    </tr>\n",
       "  </tbody>\n",
       "</table>\n",
       "</div>"
      ],
      "text/plain": [
       "    Geo_Code Region_Code Province_Code               Geography  \\\n",
       "809  5915022        5915            59  Vancouver CY (CSD, BC)   \n",
       "\n",
       "                         Region                     Province  \n",
       "809  Greater Vancouver (CD, BC)  British Columbia (Province)  "
      ]
     },
     "execution_count": 23,
     "metadata": {},
     "output_type": "execute_result"
    }
   ],
   "source": [
    "mapped_geo_code[mapped_geo_code['Geography']=='Vancouver CY (CSD, BC)']"
   ]
  },
  {
   "cell_type": "code",
   "execution_count": 14,
   "id": "0085868a",
   "metadata": {},
   "outputs": [],
   "source": [
    "from sqlalchemy import create_engine, inspect\n",
    "import os\n",
    "import pandas as pd\n",
    "# current_dir = os.path.dirname(os.path.abspath(__file__))\n",
    "engine_new = create_engine('sqlite:///../sources//hicc.db')\n"
   ]
  },
  {
   "cell_type": "code",
   "execution_count": 15,
   "id": "9101a970",
   "metadata": {},
   "outputs": [
    {
     "data": {
      "text/html": [
       "<div>\n",
       "<style scoped>\n",
       "    .dataframe tbody tr th:only-of-type {\n",
       "        vertical-align: middle;\n",
       "    }\n",
       "\n",
       "    .dataframe tbody tr th {\n",
       "        vertical-align: top;\n",
       "    }\n",
       "\n",
       "    .dataframe thead th {\n",
       "        text-align: right;\n",
       "    }\n",
       "</style>\n",
       "<table border=\"1\" class=\"dataframe\">\n",
       "  <thead>\n",
       "    <tr style=\"text-align: right;\">\n",
       "      <th></th>\n",
       "      <th>pk</th>\n",
       "    </tr>\n",
       "  </thead>\n",
       "  <tbody>\n",
       "  </tbody>\n",
       "</table>\n",
       "</div>"
      ],
      "text/plain": [
       "Empty DataFrame\n",
       "Columns: [pk]\n",
       "Index: []"
      ]
     },
     "execution_count": 15,
     "metadata": {},
     "output_type": "execute_result"
    }
   ],
   "source": [
    "output_1a = pd.read_sql_table('Output_1a', engine_new.connect())\n",
    "output_1a\n",
    "# inspector = inspect(engine_new)\n",
    "# tables = inspector.get_table_names()\n",
    "# tables"
   ]
  }
 ],
 "metadata": {
  "kernelspec": {
   "display_name": "Python 3 (ipykernel)",
   "language": "python",
   "name": "python3"
  },
  "language_info": {
   "codemirror_mode": {
    "name": "ipython",
    "version": 3
   },
   "file_extension": ".py",
   "mimetype": "text/x-python",
   "name": "python",
   "nbconvert_exporter": "python",
   "pygments_lexer": "ipython3",
   "version": "3.9.16"
  }
 },
 "nbformat": 4,
 "nbformat_minor": 5
}
